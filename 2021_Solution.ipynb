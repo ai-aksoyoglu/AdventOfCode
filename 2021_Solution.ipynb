{
 "cells": [
  {
   "cell_type": "markdown",
   "id": "f5bf5ecf-ba29-4692-b69f-b6d13aae6dc5",
   "metadata": {},
   "source": [
    "<h2 align=\"center\" style=\"color:green\"> --- Day 1: Sonar Sweep --- </h2>"
   ]
  },
  {
   "cell_type": "code",
   "execution_count": 18,
   "id": "722b0c90-bc24-4739-9091-64ebd3c714ac",
   "metadata": {},
   "outputs": [],
   "source": [
    "def read_input_file(day: int):\n",
    "    with open(f'input/2021_day{day}.txt') as f:\n",
    "        return f.read()\n",
    "    \n",
    "def lines(input):\n",
    "    return list(input.splitlines())\n",
    "\n",
    "\n",
    "def ints(input):\n",
    "    return list(map(int, lines(input)))"
   ]
  },
  {
   "cell_type": "code",
   "execution_count": 19,
   "id": "f6679f13-831a-4d88-ae55-df2faad3c7f8",
   "metadata": {},
   "outputs": [],
   "source": [
    "def day1_part_1(input):\n",
    "    input_ints = ints(input)\n",
    "    last = input_ints[0]\n",
    "    increases = 0\n",
    "\n",
    "    for i in input_ints:\n",
    "        if i > last:\n",
    "            increases += 1\n",
    "        last = i\n",
    "    return increases\n",
    "\n",
    "\n",
    "def day1_part_2(input):\n",
    "    input_ints = ints(input)\n",
    "    last = 0\n",
    "    increases = 0\n",
    "\n",
    "    for i in range(len(input_ints)-2):\n",
    "        window = sum(input_ints[i:i+3])\n",
    "        if i > 0 and window > last:\n",
    "            increases += 1\n",
    "        last = window\n",
    "    return increases"
   ]
  },
  {
   "cell_type": "code",
   "execution_count": 20,
   "id": "890b8462-805f-4d1f-b797-b5fac0521114",
   "metadata": {
    "scrolled": true,
    "tags": []
   },
   "outputs": [],
   "source": [
    "input=read_input_file(1)"
   ]
  },
  {
   "cell_type": "code",
   "execution_count": 21,
   "id": "b3de8a6a-8ab1-4463-98f1-847ddaccb2c3",
   "metadata": {},
   "outputs": [
    {
     "data": {
      "text/plain": [
       "1722"
      ]
     },
     "execution_count": 21,
     "metadata": {},
     "output_type": "execute_result"
    }
   ],
   "source": [
    "day1_part_1(input)"
   ]
  },
  {
   "cell_type": "code",
   "execution_count": 22,
   "id": "5f537f0e-1b91-4731-a380-db9922d5760a",
   "metadata": {},
   "outputs": [
    {
     "data": {
      "text/plain": [
       "1748"
      ]
     },
     "execution_count": 22,
     "metadata": {},
     "output_type": "execute_result"
    }
   ],
   "source": [
    "day1_part_2(input)"
   ]
  },
  {
   "cell_type": "code",
   "execution_count": 23,
   "id": "b9175946-1b3e-4fd9-af11-dd756a7035df",
   "metadata": {},
   "outputs": [],
   "source": [
    "def test_day_01_part_1_ex_01():\n",
    "    assert day1_part_1(TEST_INPUT) == 7\n",
    "\n",
    "\n",
    "def test_day_01_part_1_solution():\n",
    "    assert day1_part_1(input) == 1722\n",
    "\n",
    "\n",
    "def test_day_01_part_2_ex_01():\n",
    "    assert day1_part_2(TEST_INPUT) == 5\n",
    "\n",
    "\n",
    "def test_day_01_part_2_solution():\n",
    "    assert day1_part_2(input) == 1748"
   ]
  },
  {
   "cell_type": "code",
   "execution_count": 24,
   "id": "02d715ad-0044-4fc4-8c0d-85edd087df94",
   "metadata": {},
   "outputs": [],
   "source": [
    "TEST_INPUT = '199\\n200\\n208\\n210\\n200\\n207\\n240\\n269\\n260\\n263'"
   ]
  },
  {
   "cell_type": "code",
   "execution_count": 25,
   "id": "a48b1aac-c527-4d3c-8753-fd9417f352ec",
   "metadata": {},
   "outputs": [],
   "source": [
    "test_day_01_part_1_ex_01()"
   ]
  },
  {
   "cell_type": "code",
   "execution_count": 26,
   "id": "7d1eee0b-71dc-448f-9310-72dcb0496a25",
   "metadata": {},
   "outputs": [],
   "source": [
    "test_day_01_part_1_solution()"
   ]
  },
  {
   "cell_type": "code",
   "execution_count": 27,
   "id": "9f018afe-f179-46e9-8b03-1fa832891a2b",
   "metadata": {},
   "outputs": [],
   "source": [
    "test_day_01_part_2_ex_01()"
   ]
  },
  {
   "cell_type": "code",
   "execution_count": 28,
   "id": "a25bd9ba-01c1-45c9-94b9-9e855e2c8664",
   "metadata": {},
   "outputs": [],
   "source": [
    "test_day_01_part_2_solution()"
   ]
  },
  {
   "cell_type": "markdown",
   "id": "eccb0f22-3c32-4165-ae10-8fb1f636635a",
   "metadata": {},
   "source": [
    "-------------\n",
    "<h2 align=\"center\" style=\"color:green\"> --- Day 2: Dive! --- </h2>"
   ]
  },
  {
   "cell_type": "code",
   "execution_count": 29,
   "id": "71927439-a83f-4345-a84e-b110e5f21e32",
   "metadata": {},
   "outputs": [],
   "source": [
    "class Input:\n",
    "\n",
    "    def __init__(self, data):\n",
    "        self.__data = data\n",
    "\n",
    "    @classmethod\n",
    "    def test(cls, data: str):\n",
    "        return cls(data)\n",
    "\n",
    "    @classmethod\n",
    "    def day(cls, day: int):\n",
    "        with open(f'input/2021_day{day}.txt') as f:\n",
    "            return cls(f.read())\n",
    "\n",
    "    def __repr__(self):\n",
    "        return f'Input: {self.__data}'\n",
    "\n",
    "    def raw(self) -> str:\n",
    "        return self.__data\n",
    "\n",
    "    def lines(self) -> list:\n",
    "        return list(self.__data.splitlines())\n",
    "\n",
    "    def ints(self) -> list:\n",
    "        return list(map(int, self.lines()))\n",
    "    \n",
    "    \n",
    "def parse(input: str) -> (int, int):\n",
    "    direction = input.split()[0]\n",
    "    distance = int(input.split()[1])\n",
    "\n",
    "    if direction == 'forward':\n",
    "        return (distance, 0)\n",
    "    elif direction == 'backward':\n",
    "        return (-distance, 0)\n",
    "    elif direction == 'down':\n",
    "        return (0, distance)\n",
    "    elif direction == 'up':\n",
    "        return (0, -distance)\n",
    "\n",
    "    return (0, 0)\n",
    "\n",
    "\n",
    "def day2_part_1(input: list) -> int:\n",
    "    values = [parse(line) for line in input]\n",
    "    horizontal = 0\n",
    "    depth = 0\n",
    "    for i, j in values:\n",
    "        horizontal += i\n",
    "        depth += j\n",
    "\n",
    "    return horizontal * depth\n",
    "\n",
    "\n",
    "def day2_part_2(input: list) -> int:\n",
    "    values = [parse(line) for line in input]\n",
    "    horizontal = 0\n",
    "    depth = 0\n",
    "    aim = 0\n",
    "    for i, j in values:\n",
    "        horizontal += i\n",
    "        depth += aim * i\n",
    "        aim += j\n",
    "\n",
    "    return horizontal * depth"
   ]
  },
  {
   "cell_type": "code",
   "execution_count": 30,
   "id": "b6ba0137-07af-4f50-be6a-a7dfae8521a8",
   "metadata": {},
   "outputs": [],
   "source": [
    "DATA = Input.day(2).lines()"
   ]
  },
  {
   "cell_type": "code",
   "execution_count": 31,
   "id": "c5456e62-7494-46d6-bc90-5bb7cbf892de",
   "metadata": {},
   "outputs": [
    {
     "data": {
      "text/plain": [
       "2102357"
      ]
     },
     "execution_count": 31,
     "metadata": {},
     "output_type": "execute_result"
    }
   ],
   "source": [
    "day2_part_1(DATA)"
   ]
  },
  {
   "cell_type": "code",
   "execution_count": 32,
   "id": "bf4727ce-b2a2-4604-9123-00b6d4d7e343",
   "metadata": {},
   "outputs": [
    {
     "data": {
      "text/plain": [
       "2101031224"
      ]
     },
     "execution_count": 32,
     "metadata": {},
     "output_type": "execute_result"
    }
   ],
   "source": [
    "day2_part_2(DATA)"
   ]
  },
  {
   "cell_type": "code",
   "execution_count": 33,
   "id": "3e2d7ed1-bf57-412d-8793-cf436fb6c8b9",
   "metadata": {},
   "outputs": [],
   "source": [
    "def test_day_02_part_1_ex_01():\n",
    "    assert day2_part_1(TEST_DATA) == 150\n",
    "\n",
    "\n",
    "def test_day_02_part_1_solution():\n",
    "    assert day2_part_1(DATA) == 2102357\n",
    "\n",
    "\n",
    "def test_day_02_part_2_ex_01():\n",
    "    assert day2_part_2(TEST_DATA) == 900\n",
    "\n",
    "\n",
    "def test_day_02_part_2_solution():\n",
    "    assert day2_part_2(DATA) == 2101031224"
   ]
  },
  {
   "cell_type": "code",
   "execution_count": 34,
   "id": "c333dedf-1a63-4cae-8916-e61459fe30b7",
   "metadata": {},
   "outputs": [],
   "source": [
    "TEST_INPUT = 'forward 5\\ndown 5\\nforward 8\\nup 3\\ndown 8\\nforward 2'\n",
    "TEST_DATA = Input.test(TEST_INPUT).lines()"
   ]
  },
  {
   "cell_type": "code",
   "execution_count": 35,
   "id": "09492a38-58a5-47ff-bc7a-f93b4bcc3c7b",
   "metadata": {},
   "outputs": [],
   "source": [
    "test_day_02_part_1_ex_01()\n",
    "test_day_02_part_1_solution()\n",
    "test_day_02_part_2_ex_01()\n",
    "test_day_02_part_2_solution()"
   ]
  }
 ],
 "metadata": {
  "kernelspec": {
   "display_name": "Python 3",
   "language": "python",
   "name": "python3"
  },
  "language_info": {
   "codemirror_mode": {
    "name": "ipython",
    "version": 3
   },
   "file_extension": ".py",
   "mimetype": "text/x-python",
   "name": "python",
   "nbconvert_exporter": "python",
   "pygments_lexer": "ipython3",
   "version": "3.8.8"
  }
 },
 "nbformat": 4,
 "nbformat_minor": 5
}
