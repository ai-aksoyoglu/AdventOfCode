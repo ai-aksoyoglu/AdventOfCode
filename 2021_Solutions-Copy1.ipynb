{
 "cells": [
  {
   "cell_type": "markdown",
   "id": "f5bf5ecf-ba29-4692-b69f-b6d13aae6dc5",
   "metadata": {},
   "source": [
    "<h2 align=\"center\" style=\"color:green\"> --- Day 1: Sonar Sweep --- </h2>"
   ]
  },
  {
   "cell_type": "code",
   "execution_count": 6,
   "id": "722b0c90-bc24-4739-9091-64ebd3c714ac",
   "metadata": {},
   "outputs": [],
   "source": [
    "def read_input_file(day: int):\n",
    "    with open(f'input/2021_day{day}.txt') as f:\n",
    "        return f.read()\n",
    "    \n",
    "def lines(input):\n",
    "    return list(input.splitlines())\n",
    "\n",
    "\n",
    "def ints(input):\n",
    "    return list(map(int, lines(input)))"
   ]
  },
  {
   "cell_type": "code",
   "execution_count": 7,
   "id": "f6679f13-831a-4d88-ae55-df2faad3c7f8",
   "metadata": {},
   "outputs": [],
   "source": [
    "def part_1(input):\n",
    "    input_ints = ints(input)\n",
    "    last = input_ints[0]\n",
    "    increases = 0\n",
    "\n",
    "    for i in input_ints:\n",
    "        if i > last:\n",
    "            increases += 1\n",
    "        last = i\n",
    "    return increases\n",
    "\n",
    "\n",
    "def part_2(input):\n",
    "    input_ints = ints(input)\n",
    "    last = 0\n",
    "    increases = 0\n",
    "\n",
    "    for i in range(len(input_ints)-2):\n",
    "        window = sum(input_ints[i:i+3])\n",
    "        if i > 0 and window > last:\n",
    "            increases += 1\n",
    "        last = window\n",
    "    return increases"
   ]
  },
  {
   "cell_type": "code",
   "execution_count": 8,
   "id": "07bc42d7-bf73-49f5-96c7-8cd09fd04968",
   "metadata": {},
   "outputs": [],
   "source": [
    "def test_day_01_part_1_ex_01():\n",
    "    assert part_1(TEST_INPUT) == 7\n",
    "\n",
    "\n",
    "def test_day_01_part_1_solution():\n",
    "    assert part_1(input) == 1722\n",
    "\n",
    "\n",
    "def test_day_01_part_2_ex_01():\n",
    "    assert part_2(TEST_INPUT) == 5\n",
    "\n",
    "\n",
    "def test_day_01_part_2_solution():\n",
    "    assert part_2(input) == 1748"
   ]
  },
  {
   "cell_type": "code",
   "execution_count": 9,
   "id": "890b8462-805f-4d1f-b797-b5fac0521114",
   "metadata": {
    "scrolled": true,
    "tags": []
   },
   "outputs": [],
   "source": [
    "input=read_input_file(1)"
   ]
  },
  {
   "cell_type": "code",
   "execution_count": 10,
   "id": "b3de8a6a-8ab1-4463-98f1-847ddaccb2c3",
   "metadata": {},
   "outputs": [
    {
     "data": {
      "text/plain": [
       "1722"
      ]
     },
     "execution_count": 10,
     "metadata": {},
     "output_type": "execute_result"
    }
   ],
   "source": [
    "part_1(input)"
   ]
  },
  {
   "cell_type": "code",
   "execution_count": 11,
   "id": "5f537f0e-1b91-4731-a380-db9922d5760a",
   "metadata": {},
   "outputs": [
    {
     "data": {
      "text/plain": [
       "1748"
      ]
     },
     "execution_count": 11,
     "metadata": {},
     "output_type": "execute_result"
    }
   ],
   "source": [
    "part_2(input)"
   ]
  },
  {
   "cell_type": "code",
   "execution_count": 12,
   "id": "a48b1aac-c527-4d3c-8753-fd9417f352ec",
   "metadata": {},
   "outputs": [],
   "source": [
    "TEST_INPUT = '199\\n200\\n208\\n210\\n200\\n207\\n240\\n269\\n260\\n263'\n",
    "\n",
    "\n",
    "test_day_01_part_1_ex_01()"
   ]
  },
  {
   "cell_type": "code",
   "execution_count": 13,
   "id": "7d1eee0b-71dc-448f-9310-72dcb0496a25",
   "metadata": {},
   "outputs": [],
   "source": [
    "test_day_01_part_1_solution()"
   ]
  },
  {
   "cell_type": "code",
   "execution_count": 14,
   "id": "9f018afe-f179-46e9-8b03-1fa832891a2b",
   "metadata": {},
   "outputs": [],
   "source": [
    "test_day_01_part_2_ex_01()"
   ]
  },
  {
   "cell_type": "code",
   "execution_count": 15,
   "id": "a25bd9ba-01c1-45c9-94b9-9e855e2c8664",
   "metadata": {},
   "outputs": [],
   "source": [
    "test_day_01_part_2_solution()"
   ]
  },
  {
   "cell_type": "code",
   "execution_count": null,
   "id": "f618a75f-c7f4-45f1-aaf6-95069a633dbc",
   "metadata": {},
   "outputs": [],
   "source": []
  }
 ],
 "metadata": {
  "kernelspec": {
   "display_name": "Python 3",
   "language": "python",
   "name": "python3"
  },
  "language_info": {
   "codemirror_mode": {
    "name": "ipython",
    "version": 3
   },
   "file_extension": ".py",
   "mimetype": "text/x-python",
   "name": "python",
   "nbconvert_exporter": "python",
   "pygments_lexer": "ipython3",
   "version": "3.8.8"
  }
 },
 "nbformat": 4,
 "nbformat_minor": 5
}
